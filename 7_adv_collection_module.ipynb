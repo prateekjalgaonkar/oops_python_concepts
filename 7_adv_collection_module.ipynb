{
 "cells": [
  {
   "cell_type": "markdown",
   "id": "f85696c1-b039-485e-92ac-c2e7a8df0363",
   "metadata": {},
   "source": [
    "### Collection Module container object :- Counter(for list) , defaultdict(for dictionary) and namedtuple (for tuple)"
   ]
  },
  {
   "cell_type": "code",
   "execution_count": 3,
   "id": "d81bf8fc-0de9-41c4-ad43-75bffd69e821",
   "metadata": {},
   "outputs": [],
   "source": [
    "from collections import Counter"
   ]
  },
  {
   "cell_type": "code",
   "execution_count": 4,
   "id": "cfdea103-c1b8-4653-9534-6a67a8d16913",
   "metadata": {},
   "outputs": [],
   "source": [
    "mylist = [1,1,1,1,2,2,2,3,3,4,]"
   ]
  },
  {
   "cell_type": "code",
   "execution_count": 6,
   "id": "7da4283c-14eb-4285-8378-a36b9c76fe58",
   "metadata": {},
   "outputs": [
    {
     "data": {
      "text/plain": [
       "Counter({1: 4, 2: 3, 3: 2, 4: 1})"
      ]
     },
     "execution_count": 6,
     "metadata": {},
     "output_type": "execute_result"
    }
   ],
   "source": [
    "Counter(mylist)"
   ]
  },
  {
   "cell_type": "code",
   "execution_count": 7,
   "id": "01a8be63-4801-461d-80c5-409d74d32be5",
   "metadata": {},
   "outputs": [],
   "source": [
    "mylist = ['a','a',1,1]"
   ]
  },
  {
   "cell_type": "code",
   "execution_count": 8,
   "id": "c3d3c18b-e39f-4580-ae04-4d6c76d985ca",
   "metadata": {},
   "outputs": [
    {
     "data": {
      "text/plain": [
       "Counter({'a': 2, 1: 2})"
      ]
     },
     "execution_count": 8,
     "metadata": {},
     "output_type": "execute_result"
    }
   ],
   "source": [
    "Counter(mylist)"
   ]
  },
  {
   "cell_type": "code",
   "execution_count": 26,
   "id": "975529ee-afa9-4b2d-a275-33e9eb1aa633",
   "metadata": {},
   "outputs": [],
   "source": [
    "sentence= 'She shells sea shells sea the shore Sea shore'"
   ]
  },
  {
   "cell_type": "code",
   "execution_count": 27,
   "id": "c8c9e418-7561-4e5e-bb0f-37f8cba8cd3c",
   "metadata": {},
   "outputs": [],
   "source": [
    "c= Counter(sentence.lower().split())"
   ]
  },
  {
   "cell_type": "code",
   "execution_count": 29,
   "id": "10b0871a-a539-4e81-a921-bdda25d0aa82",
   "metadata": {},
   "outputs": [
    {
     "data": {
      "text/plain": [
       "[('sea', 3), ('shells', 2)]"
      ]
     },
     "execution_count": 29,
     "metadata": {},
     "output_type": "execute_result"
    }
   ],
   "source": [
    "c.most_common(2)"
   ]
  },
  {
   "cell_type": "code",
   "execution_count": 30,
   "id": "f61328cb-f30d-402f-afb1-4af89087d9f9",
   "metadata": {},
   "outputs": [],
   "source": [
    "from collections import defaultdict"
   ]
  },
  {
   "cell_type": "code",
   "execution_count": 32,
   "id": "97c350d6-afe2-4d5c-8f19-cbaed2322cc4",
   "metadata": {},
   "outputs": [],
   "source": [
    "d= {'Correct':100}"
   ]
  },
  {
   "cell_type": "code",
   "execution_count": 34,
   "id": "faf7c609-6905-4595-aa99-174f123dbbc7",
   "metadata": {},
   "outputs": [
    {
     "data": {
      "text/plain": [
       "100"
      ]
     },
     "execution_count": 34,
     "metadata": {},
     "output_type": "execute_result"
    }
   ],
   "source": [
    "d['Correct']"
   ]
  },
  {
   "cell_type": "code",
   "execution_count": 35,
   "id": "d2332c7d-8343-4abf-96f8-f3d49208cda9",
   "metadata": {},
   "outputs": [
    {
     "ename": "KeyError",
     "evalue": "'Wrong'",
     "output_type": "error",
     "traceback": [
      "\u001b[1;31m---------------------------------------------------------------------------\u001b[0m",
      "\u001b[1;31mKeyError\u001b[0m                                  Traceback (most recent call last)",
      "Cell \u001b[1;32mIn[35], line 1\u001b[0m\n\u001b[1;32m----> 1\u001b[0m d[\u001b[38;5;124m'\u001b[39m\u001b[38;5;124mWrong\u001b[39m\u001b[38;5;124m'\u001b[39m]\n",
      "\u001b[1;31mKeyError\u001b[0m: 'Wrong'"
     ]
    }
   ],
   "source": [
    "d['Wrong']"
   ]
  },
  {
   "cell_type": "code",
   "execution_count": 36,
   "id": "f5604b18-e9ce-476c-850e-00c27bc8745e",
   "metadata": {},
   "outputs": [],
   "source": [
    "d = defaultdict(lambda:0)"
   ]
  },
  {
   "cell_type": "code",
   "execution_count": 38,
   "id": "ae6e2c89-4091-40ff-88c2-48d071761738",
   "metadata": {},
   "outputs": [],
   "source": [
    "d['Correct'] = 100"
   ]
  },
  {
   "cell_type": "code",
   "execution_count": 39,
   "id": "f1217f49-d88f-4c43-a3d6-0c6e20b2d712",
   "metadata": {},
   "outputs": [
    {
     "data": {
      "text/plain": [
       "0"
      ]
     },
     "execution_count": 39,
     "metadata": {},
     "output_type": "execute_result"
    }
   ],
   "source": [
    "d['Wrong']"
   ]
  },
  {
   "cell_type": "code",
   "execution_count": 40,
   "id": "9b9b030b-9250-4b53-8f69-44a5a06d1257",
   "metadata": {},
   "outputs": [
    {
     "data": {
      "text/plain": [
       "defaultdict(<function __main__.<lambda>()>, {'Correct': 100, 'Wrong': 0})"
      ]
     },
     "execution_count": 40,
     "metadata": {},
     "output_type": "execute_result"
    }
   ],
   "source": [
    "d"
   ]
  },
  {
   "cell_type": "code",
   "execution_count": 41,
   "id": "fc7a685d-aa4d-4ef8-8a49-d2d55b8ae8d8",
   "metadata": {},
   "outputs": [],
   "source": [
    "from collections import namedtuple"
   ]
  },
  {
   "cell_type": "code",
   "execution_count": 43,
   "id": "b99f1c5a-2f3e-402e-9471-9359f38cbe5d",
   "metadata": {},
   "outputs": [],
   "source": [
    "Cat = namedtuple('Cat',['age','breed','name'])"
   ]
  },
  {
   "cell_type": "code",
   "execution_count": 45,
   "id": "93f8de84-c56c-4b60-b8cd-99b6f5c46455",
   "metadata": {},
   "outputs": [],
   "source": [
    "kitty = Cat(2,'indie','kitty')"
   ]
  },
  {
   "cell_type": "code",
   "execution_count": 47,
   "id": "3b9befc5-ad2e-4233-b018-764ee78f8522",
   "metadata": {},
   "outputs": [
    {
     "data": {
      "text/plain": [
       "__main__.Cat"
      ]
     },
     "execution_count": 47,
     "metadata": {},
     "output_type": "execute_result"
    }
   ],
   "source": [
    "type(kitty)"
   ]
  },
  {
   "cell_type": "code",
   "execution_count": 57,
   "id": "b65e4aa6-abe7-4ee2-90b7-2e9dd836c017",
   "metadata": {},
   "outputs": [
    {
     "data": {
      "text/plain": [
       "2"
      ]
     },
     "execution_count": 57,
     "metadata": {},
     "output_type": "execute_result"
    }
   ],
   "source": [
    "kitty.age"
   ]
  },
  {
   "cell_type": "code",
   "execution_count": 58,
   "id": "e8293a0f-bad5-403c-8a7a-12fcf08788e7",
   "metadata": {},
   "outputs": [
    {
     "data": {
      "text/plain": [
       "2"
      ]
     },
     "execution_count": 58,
     "metadata": {},
     "output_type": "execute_result"
    }
   ],
   "source": [
    "kitty[0]"
   ]
  }
 ],
 "metadata": {
  "kernelspec": {
   "display_name": "Python 3 (ipykernel)",
   "language": "python",
   "name": "python3"
  },
  "language_info": {
   "codemirror_mode": {
    "name": "ipython",
    "version": 3
   },
   "file_extension": ".py",
   "mimetype": "text/x-python",
   "name": "python",
   "nbconvert_exporter": "python",
   "pygments_lexer": "ipython3",
   "version": "3.12.7"
  }
 },
 "nbformat": 4,
 "nbformat_minor": 5
}
