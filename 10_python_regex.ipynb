{
 "cells": [
  {
   "cell_type": "code",
   "execution_count": 1,
   "id": "985f0cd1-5e2e-44c8-ba2f-9735f35b48e2",
   "metadata": {},
   "outputs": [],
   "source": [
    "text = \"The agent's phone number is 022-456-7891. Call soon.\""
   ]
  },
  {
   "cell_type": "code",
   "execution_count": 5,
   "id": "4dd8adec-6242-40f0-b363-08d3de84c3a5",
   "metadata": {},
   "outputs": [
    {
     "data": {
      "text/plain": [
       "True"
      ]
     },
     "execution_count": 5,
     "metadata": {},
     "output_type": "execute_result"
    }
   ],
   "source": [
    "'phone' in text"
   ]
  },
  {
   "cell_type": "code",
   "execution_count": 6,
   "id": "64a4aaf5-7dd4-404f-b78e-e76807d58d40",
   "metadata": {},
   "outputs": [],
   "source": [
    "import re"
   ]
  },
  {
   "cell_type": "code",
   "execution_count": 7,
   "id": "1c35ed04-be27-4331-983b-88aa45577de6",
   "metadata": {},
   "outputs": [],
   "source": [
    "pattern = 'phone'"
   ]
  },
  {
   "cell_type": "code",
   "execution_count": 14,
   "id": "4038ae01-c862-41df-b14b-3b73e19a724f",
   "metadata": {},
   "outputs": [],
   "source": [
    "match = re.search(pattern, text)"
   ]
  },
  {
   "cell_type": "code",
   "execution_count": 17,
   "id": "9664afb5-64f9-49b0-8ebd-e41097bc5a35",
   "metadata": {},
   "outputs": [
    {
     "data": {
      "text/plain": [
       "(12, 17)"
      ]
     },
     "execution_count": 17,
     "metadata": {},
     "output_type": "execute_result"
    }
   ],
   "source": [
    "match.span()"
   ]
  },
  {
   "cell_type": "markdown",
   "id": "6d5af8eb-3820-4014-931b-55a7654081bc",
   "metadata": {},
   "source": [
    "#### Finding multiple patterns"
   ]
  },
  {
   "cell_type": "code",
   "execution_count": 18,
   "id": "c8fc4c2a-c975-4739-967c-57ed45a827dc",
   "metadata": {},
   "outputs": [],
   "source": [
    "text = \"The phone once, the phone twice\""
   ]
  },
  {
   "cell_type": "code",
   "execution_count": 19,
   "id": "c3554678-1f93-4e5e-b75a-4b425bce0ed1",
   "metadata": {},
   "outputs": [],
   "source": [
    "pattern = 'phone'"
   ]
  },
  {
   "cell_type": "code",
   "execution_count": 22,
   "id": "1cf8bb0b-0603-44f5-8eb2-440aeee8d624",
   "metadata": {},
   "outputs": [],
   "source": [
    "matches = re.findall(pattern, text)"
   ]
  },
  {
   "cell_type": "code",
   "execution_count": 29,
   "id": "531151af-964f-4404-a60f-a9e440cc2ba0",
   "metadata": {},
   "outputs": [
    {
     "data": {
      "text/plain": [
       "['phone', 'phone']"
      ]
     },
     "execution_count": 29,
     "metadata": {},
     "output_type": "execute_result"
    }
   ],
   "source": [
    "matches"
   ]
  },
  {
   "cell_type": "code",
   "execution_count": 34,
   "id": "d821e06c-ec2c-4f60-9095-781a4af860f7",
   "metadata": {},
   "outputs": [
    {
     "name": "stdout",
     "output_type": "stream",
     "text": [
      "phone\n",
      "phone\n"
     ]
    }
   ],
   "source": [
    "for match in re.finditer(pattern,text):\n",
    "    print(match.group())"
   ]
  },
  {
   "cell_type": "markdown",
   "id": "20ffba39-0d47-436a-8f00-1390f2343688",
   "metadata": {},
   "source": [
    "#### Character Identifiers in regex"
   ]
  },
  {
   "cell_type": "code",
   "execution_count": 39,
   "id": "8c3947f0-4832-460b-8bfe-ab3c4b909524",
   "metadata": {},
   "outputs": [],
   "source": [
    "#\\d is digit \n",
    "\n",
    "text = 'my phone number is 022-456-7832'"
   ]
  },
  {
   "cell_type": "code",
   "execution_count": 44,
   "id": "9554b5a5-6a1f-4a53-afe7-e3d38c466642",
   "metadata": {},
   "outputs": [],
   "source": [
    "pattern = r'\\d\\d\\d-\\d\\d\\d-\\d\\d\\d\\d'"
   ]
  },
  {
   "cell_type": "code",
   "execution_count": 45,
   "id": "04eb79b1-bfd7-4e3d-850a-a5e15cbdf25d",
   "metadata": {},
   "outputs": [],
   "source": [
    "phone = re.search(pattern,text)"
   ]
  },
  {
   "cell_type": "code",
   "execution_count": 47,
   "id": "e9be0c33-5261-467f-aaa2-d5528aa61fa5",
   "metadata": {},
   "outputs": [
    {
     "data": {
      "text/plain": [
       "'022-456-7832'"
      ]
     },
     "execution_count": 47,
     "metadata": {},
     "output_type": "execute_result"
    }
   ],
   "source": [
    "phone.group()"
   ]
  },
  {
   "cell_type": "markdown",
   "id": "fbf4a52c-436a-4840-a475-9a3cbbf62234",
   "metadata": {},
   "source": [
    "### Quantifiers"
   ]
  },
  {
   "cell_type": "code",
   "execution_count": 51,
   "id": "128ce27c-0320-432e-a2ed-8b4159a59950",
   "metadata": {},
   "outputs": [],
   "source": [
    "#{}\n",
    "text = 'my phone number is 022-456-7832'\n",
    "pattern = r'\\d{3}-\\d{3}-\\d{4}'"
   ]
  },
  {
   "cell_type": "code",
   "execution_count": 52,
   "id": "6ed4fcac-97c1-4d80-9f61-4157e40ff281",
   "metadata": {},
   "outputs": [],
   "source": [
    "phone = re.search(pattern, text)"
   ]
  },
  {
   "cell_type": "code",
   "execution_count": 53,
   "id": "adce255e-7310-48be-9bff-955699a2ac3b",
   "metadata": {},
   "outputs": [
    {
     "data": {
      "text/plain": [
       "<re.Match object; span=(19, 31), match='022-456-7832'>"
      ]
     },
     "execution_count": 53,
     "metadata": {},
     "output_type": "execute_result"
    }
   ],
   "source": [
    "phone"
   ]
  },
  {
   "cell_type": "code",
   "execution_count": 54,
   "id": "559b31e7-27e7-4d45-a1ac-9fcb211b1f7f",
   "metadata": {},
   "outputs": [
    {
     "data": {
      "text/plain": [
       "'022-456-7832'"
      ]
     },
     "execution_count": 54,
     "metadata": {},
     "output_type": "execute_result"
    }
   ],
   "source": [
    "phone.group()"
   ]
  },
  {
   "cell_type": "markdown",
   "id": "e1bf1302-87c8-42aa-8696-1c6820d91c2f",
   "metadata": {},
   "source": [
    "#### To fetch subsection and call group and subgroups"
   ]
  },
  {
   "cell_type": "code",
   "execution_count": 55,
   "id": "4a948578-2c8e-4f17-b5bb-92ecd18c127b",
   "metadata": {},
   "outputs": [],
   "source": [
    "phone_pattern = re.compile(r'(\\d{3})-(\\d{3})-(\\d{4})')"
   ]
  },
  {
   "cell_type": "code",
   "execution_count": 56,
   "id": "34e305b9-840b-46e0-b5ff-e6e62b04e24a",
   "metadata": {},
   "outputs": [],
   "source": [
    "results = re.search(phone_pattern,text)"
   ]
  },
  {
   "cell_type": "code",
   "execution_count": 61,
   "id": "afc3ee99-91b8-440e-9154-ecc786ee434a",
   "metadata": {},
   "outputs": [
    {
     "data": {
      "text/plain": [
       "'022'"
      ]
     },
     "execution_count": 61,
     "metadata": {},
     "output_type": "execute_result"
    }
   ],
   "source": [
    "results.group(1)"
   ]
  },
  {
   "cell_type": "markdown",
   "id": "b47d757c-0401-43ba-9283-ba1ccdf9821e",
   "metadata": {},
   "source": [
    "### Additional Regex Syntax"
   ]
  },
  {
   "cell_type": "code",
   "execution_count": 67,
   "id": "34fd6746-c317-4258-b67c-72507a624251",
   "metadata": {},
   "outputs": [
    {
     "data": {
      "text/plain": [
       "<re.Match object; span=(4, 7), match='cat'>"
      ]
     },
     "execution_count": 67,
     "metadata": {},
     "output_type": "execute_result"
    }
   ],
   "source": [
    "re.search(r'cat|dog','The cat is here')"
   ]
  },
  {
   "cell_type": "code",
   "execution_count": 68,
   "id": "30d943f6-a862-413c-b077-3348ca232076",
   "metadata": {},
   "outputs": [
    {
     "data": {
      "text/plain": [
       "['cat', 'hat', 'sat']"
      ]
     },
     "execution_count": 68,
     "metadata": {},
     "output_type": "execute_result"
    }
   ],
   "source": [
    "re.findall(r'.at', 'The cat is in hat sat there')"
   ]
  },
  {
   "cell_type": "code",
   "execution_count": null,
   "id": "13b2effe-f3cd-4d85-b057-3758897fc316",
   "metadata": {},
   "outputs": [],
   "source": []
  },
  {
   "cell_type": "code",
   "execution_count": null,
   "id": "860cb39c-79f3-4ea3-a9c8-3e480b45f2d1",
   "metadata": {},
   "outputs": [],
   "source": []
  },
  {
   "cell_type": "code",
   "execution_count": null,
   "id": "06ce201c-35a8-4efd-b5d6-ed321d9e777e",
   "metadata": {},
   "outputs": [],
   "source": []
  },
  {
   "cell_type": "code",
   "execution_count": null,
   "id": "cdea58b0-86df-444c-a4af-772a0eae5c58",
   "metadata": {},
   "outputs": [],
   "source": []
  }
 ],
 "metadata": {
  "kernelspec": {
   "display_name": "Python 3 (ipykernel)",
   "language": "python",
   "name": "python3"
  },
  "language_info": {
   "codemirror_mode": {
    "name": "ipython",
    "version": 3
   },
   "file_extension": ".py",
   "mimetype": "text/x-python",
   "name": "python",
   "nbconvert_exporter": "python",
   "pygments_lexer": "ipython3",
   "version": "3.12.7"
  }
 },
 "nbformat": 4,
 "nbformat_minor": 5
}
