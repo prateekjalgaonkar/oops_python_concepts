{
 "cells": [
  {
   "cell_type": "markdown",
   "id": "f0c7ba2f-0fb1-4b22-b9e0-b0e792061078",
   "metadata": {},
   "source": [
    "## Creating cube function using list (less memory efficient)"
   ]
  },
  {
   "cell_type": "code",
   "execution_count": 7,
   "id": "8fb93aba-f7fb-42d2-a502-e45563081880",
   "metadata": {},
   "outputs": [],
   "source": [
    "def cube(n):\n",
    "    result = []\n",
    "    for i in range(n):\n",
    "        result.append(i**3)\n",
    "    return result"
   ]
  },
  {
   "cell_type": "code",
   "execution_count": 9,
   "id": "1031cca3-4e7a-4440-b019-9d0e2720a138",
   "metadata": {},
   "outputs": [
    {
     "name": "stdout",
     "output_type": "stream",
     "text": [
      "0\n",
      "1\n",
      "8\n",
      "27\n",
      "64\n",
      "125\n",
      "216\n",
      "343\n",
      "512\n",
      "729\n"
     ]
    }
   ],
   "source": [
    "for i in cube(10):\n",
    "    print(i)"
   ]
  },
  {
   "cell_type": "markdown",
   "id": "3e8f2297-a69c-44c1-8515-0671e2c9c545",
   "metadata": {},
   "source": [
    "### Creating cube function using generator (more memory efficient)"
   ]
  },
  {
   "cell_type": "code",
   "execution_count": 10,
   "id": "12bf08c0-42ba-4fc9-b1c3-739dcda3e49d",
   "metadata": {},
   "outputs": [],
   "source": [
    "def cube(n): \n",
    "    for i in range(n):\n",
    "        yield(i**3)"
   ]
  },
  {
   "cell_type": "code",
   "execution_count": 12,
   "id": "58e965f3-afd7-49fd-bfb1-509f3d59fd63",
   "metadata": {},
   "outputs": [
    {
     "name": "stdout",
     "output_type": "stream",
     "text": [
      "0\n",
      "1\n",
      "8\n",
      "27\n",
      "64\n",
      "125\n",
      "216\n",
      "343\n",
      "512\n",
      "729\n"
     ]
    }
   ],
   "source": [
    "for i in cube(10):\n",
    "    print(i)"
   ]
  },
  {
   "cell_type": "markdown",
   "id": "f734a877-7714-493d-8522-697c6df73405",
   "metadata": {},
   "source": [
    "### Generating Fibonnici series using temp variable"
   ]
  },
  {
   "cell_type": "code",
   "execution_count": 25,
   "id": "a16b78bd-de99-4173-bbf8-ac92e1190ce8",
   "metadata": {},
   "outputs": [],
   "source": [
    "def fib_temp(n):\n",
    "    x=0\n",
    "    y=1\n",
    "    series=[]\n",
    "    for i in range(n):\n",
    "        series.append(x)\n",
    "        temp=x\n",
    "        x=y\n",
    "        y= temp+x\n",
    "    return series"
   ]
  },
  {
   "cell_type": "code",
   "execution_count": 27,
   "id": "5439c047-6231-49e8-97fd-680aac3dc306",
   "metadata": {},
   "outputs": [
    {
     "data": {
      "text/plain": [
       "[0, 1, 1, 2, 3, 5, 8, 13, 21, 34]"
      ]
     },
     "execution_count": 27,
     "metadata": {},
     "output_type": "execute_result"
    }
   ],
   "source": [
    "fib_temp(10)"
   ]
  },
  {
   "cell_type": "markdown",
   "id": "b8243b85-2a93-4578-a12f-30cd0bda4e2e",
   "metadata": {},
   "source": [
    "### Generating Fibonnici series using tuple unpacking"
   ]
  },
  {
   "cell_type": "code",
   "execution_count": 28,
   "id": "7a14fa3f-4c5f-443c-822f-2396d6641e9d",
   "metadata": {},
   "outputs": [],
   "source": [
    "def fib_swap(n):\n",
    "    x=0\n",
    "    y=1\n",
    "    series=[]\n",
    "    for i in range(10):\n",
    "        series.append(x)\n",
    "        x,y = y,x+y\n",
    "    return series"
   ]
  },
  {
   "cell_type": "code",
   "execution_count": 29,
   "id": "cacee2c2-46fa-4e39-9858-912f087e783f",
   "metadata": {},
   "outputs": [
    {
     "data": {
      "text/plain": [
       "[0, 1, 1, 2, 3, 5, 8, 13, 21, 34]"
      ]
     },
     "execution_count": 29,
     "metadata": {},
     "output_type": "execute_result"
    }
   ],
   "source": [
    "fib_swap(10)"
   ]
  },
  {
   "cell_type": "markdown",
   "id": "99e5aee4-708f-43bd-ac62-bb49632189f5",
   "metadata": {},
   "source": [
    "### Generating Fibonnici series using GENERATOR"
   ]
  },
  {
   "cell_type": "code",
   "execution_count": 41,
   "id": "2054333a-bd0e-4845-9477-6be09287c102",
   "metadata": {},
   "outputs": [],
   "source": [
    "def fib_gen(n):\n",
    "    x=0\n",
    "    y=1\n",
    "    for i in range(n):\n",
    "        yield(x)\n",
    "        x,y=y,x+y     "
   ]
  },
  {
   "cell_type": "code",
   "execution_count": null,
   "id": "9f71aebc-7922-4baf-a14f-e9435b4694c3",
   "metadata": {},
   "outputs": [],
   "source": [
    "series=[]\n",
    "for i in fib_gen(10):\n",
    "    series.append(i)\n",
    "print(series)"
   ]
  },
  {
   "cell_type": "markdown",
   "id": "2585452e-7ce1-4031-97db-2c2dbb4944a3",
   "metadata": {},
   "source": [
    "### Use of next() keyword in Generator"
   ]
  },
  {
   "cell_type": "code",
   "execution_count": 50,
   "id": "9b71ba2c-1517-42db-8cc7-1cfd428c04ec",
   "metadata": {},
   "outputs": [],
   "source": [
    "obj = fib_gen(10)"
   ]
  },
  {
   "cell_type": "code",
   "execution_count": 71,
   "id": "11f6617b-d19f-4cd6-95f4-ac411c6f87e8",
   "metadata": {},
   "outputs": [
    {
     "data": {
      "text/plain": [
       "<generator object fib_gen at 0x000002ACE54F3A00>"
      ]
     },
     "execution_count": 71,
     "metadata": {},
     "output_type": "execute_result"
    }
   ],
   "source": [
    "obj"
   ]
  },
  {
   "cell_type": "markdown",
   "id": "e7f8aeec-1b38-41f9-bcfd-cfea620f2744",
   "metadata": {},
   "source": [
    "#### If object is generator type then only iterator will function, else it will give TypeError"
   ]
  },
  {
   "cell_type": "code",
   "execution_count": 70,
   "id": "b3044e9a-62cf-41c1-a6d2-179b630fd90b",
   "metadata": {},
   "outputs": [
    {
     "ename": "TypeError",
     "evalue": "'function' object is not an iterator",
     "output_type": "error",
     "traceback": [
      "\u001b[1;31m---------------------------------------------------------------------------\u001b[0m",
      "\u001b[1;31mTypeError\u001b[0m                                 Traceback (most recent call last)",
      "Cell \u001b[1;32mIn[70], line 1\u001b[0m\n\u001b[1;32m----> 1\u001b[0m \u001b[38;5;28mnext\u001b[39m(fib_gen)\n",
      "\u001b[1;31mTypeError\u001b[0m: 'function' object is not an iterator"
     ]
    }
   ],
   "source": [
    "next(obj)"
   ]
  },
  {
   "cell_type": "markdown",
   "id": "6c77a29b-1842-4e86-9798-ada02d60b626",
   "metadata": {},
   "source": [
    "### What is Iterator?\n",
    "its generator for string!"
   ]
  },
  {
   "cell_type": "code",
   "execution_count": 87,
   "id": "3bce921f-300c-46d3-9b23-8095c2f1085d",
   "metadata": {},
   "outputs": [],
   "source": [
    "s= 'hello'"
   ]
  },
  {
   "cell_type": "code",
   "execution_count": 85,
   "id": "5a5a9332-455b-4c94-9025-8efa32ea97e0",
   "metadata": {},
   "outputs": [],
   "source": [
    "def test():\n",
    "    for letter in s:\n",
    "        yield(letter)"
   ]
  },
  {
   "cell_type": "code",
   "execution_count": 86,
   "id": "43c9072a-79d2-44d0-89c4-b11ada1bae12",
   "metadata": {},
   "outputs": [
    {
     "name": "stdout",
     "output_type": "stream",
     "text": [
      "h\n",
      "e\n",
      "l\n",
      "l\n",
      "o\n"
     ]
    }
   ],
   "source": [
    "for i in test():\n",
    "    print(i)"
   ]
  },
  {
   "cell_type": "code",
   "execution_count": 88,
   "id": "d48a9711-2281-4c4e-a878-bcaa0440389b",
   "metadata": {},
   "outputs": [],
   "source": [
    "iter_s = iter(s)"
   ]
  },
  {
   "cell_type": "code",
   "execution_count": 90,
   "id": "876bbb40-497e-46db-b1e9-8d71c6f8cdb7",
   "metadata": {},
   "outputs": [
    {
     "name": "stdout",
     "output_type": "stream",
     "text": [
      "h\n",
      "e\n",
      "l\n",
      "l\n",
      "o\n"
     ]
    }
   ],
   "source": [
    "for i in iter_s:\n",
    "    print(i)"
   ]
  },
  {
   "cell_type": "markdown",
   "id": "b38933cc-eca8-4cd7-92ee-7c5c20cdf1ff",
   "metadata": {},
   "source": [
    "### Iterators and Generators Practice Problems"
   ]
  },
  {
   "cell_type": "markdown",
   "id": "e5fea97c-769a-489c-b9df-0ef836af6057",
   "metadata": {},
   "source": [
    "##### Prob1: Create a generator that generates the squares of numbers up to some number N."
   ]
  },
  {
   "cell_type": "code",
   "execution_count": 95,
   "id": "e6c2358a-8e5a-4c0f-8af9-7d232883b431",
   "metadata": {},
   "outputs": [],
   "source": [
    "def gen_square(n):\n",
    "    for i in range(1,n+1):\n",
    "        yield(i**2)"
   ]
  },
  {
   "cell_type": "code",
   "execution_count": 96,
   "id": "d57b8270-9426-45a3-9aee-5e699ee469b5",
   "metadata": {},
   "outputs": [
    {
     "name": "stdout",
     "output_type": "stream",
     "text": [
      "1\n",
      "4\n",
      "9\n",
      "16\n",
      "25\n",
      "36\n",
      "49\n",
      "64\n",
      "81\n",
      "100\n"
     ]
    }
   ],
   "source": [
    "for i in gen_square(10):\n",
    "    print(i)"
   ]
  },
  {
   "cell_type": "markdown",
   "id": "fe54c74d-037a-46eb-bf50-243ca60620bd",
   "metadata": {},
   "source": [
    "##### Prob2: Create a generator that yields \"n\" random numbers between a low and high number (that are inputs).\n",
    "Note: Use the random library."
   ]
  },
  {
   "cell_type": "code",
   "execution_count": 97,
   "id": "679c3c95-1f3e-42bf-bff8-38e752ad6d81",
   "metadata": {},
   "outputs": [],
   "source": [
    "import random\n",
    "def gen_random(n,start,end):\n",
    "    for i in range(n):\n",
    "        yield(random.randint(start,end))"
   ]
  },
  {
   "cell_type": "code",
   "execution_count": 99,
   "id": "6bcf98bc-1f8e-402e-a691-730b8e4b7539",
   "metadata": {},
   "outputs": [
    {
     "name": "stdout",
     "output_type": "stream",
     "text": [
      "16\n",
      "14\n",
      "12\n",
      "10\n",
      "19\n"
     ]
    }
   ],
   "source": [
    "for i in gen_random(5,10,20):\n",
    "    print(i)"
   ]
  },
  {
   "cell_type": "markdown",
   "id": "a42bb9d7-fd7b-485f-9cc5-90698668926f",
   "metadata": {},
   "source": [
    "##### Prob3: Use the iter() function to convert the string below into an iterator:"
   ]
  },
  {
   "cell_type": "code",
   "execution_count": 101,
   "id": "51e5d33e-318a-4567-a63a-f91fe55d6d7d",
   "metadata": {},
   "outputs": [
    {
     "name": "stdout",
     "output_type": "stream",
     "text": [
      "h\n",
      "e\n",
      "l\n",
      "l\n",
      "o\n"
     ]
    }
   ],
   "source": [
    "s= 'hello'\n",
    "\n",
    "for i in iter(s):\n",
    "    print(i)"
   ]
  },
  {
   "cell_type": "markdown",
   "id": "a94761a0-4b35-4b74-b207-00f43e79c289",
   "metadata": {},
   "source": [
    "##### Prob4 Explain a use case for a generator using a yield statement where you would not want to use a normal function with a return statement."
   ]
  },
  {
   "cell_type": "markdown",
   "id": "8c44e69b-efbe-4a8b-9869-5967da54aaf9",
   "metadata": {},
   "source": [
    "##### Scenario: Infinite Sequence Generation (e.g., Fibonacci Sequence)\n",
    "One of the classic examples where a generator shines over a normal function with return is when you need to generate an infinite or very large sequence of values, such as the Fibonacci sequence, without storing the entire sequence in memory at once.\n",
    "\n",
    "Why not use a normal function with return?\n",
    "A normal function using return would either return a single value or a whole collection (like a list), which is inefficient for infinite sequences because it would have to store all previous values, leading to unnecessary memory usage.\n",
    "\n",
    "Also, once the return statement is hit, the function terminates, meaning it can't continue generating values.\n",
    "\n",
    "Using a generator:\n",
    "A generator with yield allows us to generate values one at a time as needed, which makes it memory efficient. The function can produce a value, pause, and then resume generating the next value when requested, without holding the entire sequence in memory."
   ]
  },
  {
   "cell_type": "markdown",
   "id": "ca82ed71-b859-4ea4-9bce-974da2782a0c",
   "metadata": {},
   "source": [
    "##### Prob5 What is Generator Comprehension"
   ]
  },
  {
   "cell_type": "code",
   "execution_count": 107,
   "id": "7b00f529-84f7-4f28-8cc1-9a233c0ae013",
   "metadata": {},
   "outputs": [],
   "source": [
    "my_list= [1,2,3,4,5]\n",
    "\n",
    "gen_comp = (i for i in my_list if i >3)"
   ]
  },
  {
   "cell_type": "code",
   "execution_count": 108,
   "id": "18db1558-04b3-44bb-b469-bf1db4049dfd",
   "metadata": {},
   "outputs": [
    {
     "name": "stdout",
     "output_type": "stream",
     "text": [
      "4\n",
      "5\n"
     ]
    }
   ],
   "source": [
    "for i in gen_comp:\n",
    "    print(i)"
   ]
  },
  {
   "cell_type": "code",
   "execution_count": null,
   "id": "0a353ee1-54ad-41dd-926c-3cf1bc202abd",
   "metadata": {},
   "outputs": [],
   "source": []
  },
  {
   "cell_type": "code",
   "execution_count": null,
   "id": "ac94fbf5-8ce3-4c39-a1bc-2708d4ef3254",
   "metadata": {},
   "outputs": [],
   "source": []
  },
  {
   "cell_type": "code",
   "execution_count": null,
   "id": "e01ed98a-7ba8-43a7-8259-90becd65f6d6",
   "metadata": {},
   "outputs": [],
   "source": []
  },
  {
   "cell_type": "code",
   "execution_count": null,
   "id": "368e0759-59c0-4466-9ef7-72661cc3bcd7",
   "metadata": {},
   "outputs": [],
   "source": []
  },
  {
   "cell_type": "code",
   "execution_count": null,
   "id": "148ca39d-6b98-4406-9807-ddbdd4e239e6",
   "metadata": {},
   "outputs": [],
   "source": []
  },
  {
   "cell_type": "code",
   "execution_count": null,
   "id": "3db2b898-2f79-430d-b68f-ae355ce2ae4e",
   "metadata": {},
   "outputs": [],
   "source": []
  },
  {
   "cell_type": "code",
   "execution_count": null,
   "id": "47bc7379-5c0e-4979-9c9a-5723832e4180",
   "metadata": {},
   "outputs": [],
   "source": []
  },
  {
   "cell_type": "code",
   "execution_count": null,
   "id": "90ed5d53-9c1b-4cf5-a0cf-a165b9ede007",
   "metadata": {},
   "outputs": [],
   "source": []
  },
  {
   "cell_type": "code",
   "execution_count": null,
   "id": "e5da5596-cadb-4e01-b8dd-6925249b4961",
   "metadata": {},
   "outputs": [],
   "source": []
  },
  {
   "cell_type": "code",
   "execution_count": null,
   "id": "93a45dc8-8cb3-456d-80c4-aeb1ec3646d8",
   "metadata": {},
   "outputs": [],
   "source": []
  }
 ],
 "metadata": {
  "kernelspec": {
   "display_name": "Python 3 (ipykernel)",
   "language": "python",
   "name": "python3"
  },
  "language_info": {
   "codemirror_mode": {
    "name": "ipython",
    "version": 3
   },
   "file_extension": ".py",
   "mimetype": "text/x-python",
   "name": "python",
   "nbconvert_exporter": "python",
   "pygments_lexer": "ipython3",
   "version": "3.12.7"
  }
 },
 "nbformat": 4,
 "nbformat_minor": 5
}
