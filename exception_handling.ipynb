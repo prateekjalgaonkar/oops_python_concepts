{
 "cells": [
  {
   "cell_type": "code",
   "execution_count": 1,
   "id": "3b089be1-0122-4f41-9d68-002b6aef4f74",
   "metadata": {},
   "outputs": [],
   "source": [
    "def add(num1, num2):\n",
    "    print(num1+num2)"
   ]
  },
  {
   "cell_type": "code",
   "execution_count": 2,
   "id": "36c05f0f-d83e-4b3c-afc3-cc56802d0af4",
   "metadata": {},
   "outputs": [
    {
     "name": "stdout",
     "output_type": "stream",
     "text": [
      "30\n"
     ]
    }
   ],
   "source": [
    "add(10,20)"
   ]
  },
  {
   "cell_type": "code",
   "execution_count": 3,
   "id": "cb1ec45b-8247-4864-a260-02246bb447c9",
   "metadata": {},
   "outputs": [],
   "source": [
    "number1 = 10"
   ]
  },
  {
   "cell_type": "code",
   "execution_count": 4,
   "id": "fbbda4e8-9c0e-4343-a906-1e64d3242204",
   "metadata": {},
   "outputs": [
    {
     "name": "stdin",
     "output_type": "stream",
     "text": [
      "Please enter a number 20\n"
     ]
    }
   ],
   "source": [
    "number2 = input('Please enter a number')"
   ]
  },
  {
   "cell_type": "code",
   "execution_count": 6,
   "id": "b49c9919-0326-4e60-8a3e-dac3674f7c6c",
   "metadata": {},
   "outputs": [
    {
     "ename": "TypeError",
     "evalue": "unsupported operand type(s) for +: 'int' and 'str'",
     "output_type": "error",
     "traceback": [
      "\u001b[1;31m---------------------------------------------------------------------------\u001b[0m",
      "\u001b[1;31mTypeError\u001b[0m                                 Traceback (most recent call last)",
      "Cell \u001b[1;32mIn[6], line 1\u001b[0m\n\u001b[1;32m----> 1\u001b[0m add(number1, number2)\n\u001b[0;32m      2\u001b[0m \u001b[38;5;28mprint\u001b[39m(\u001b[38;5;124m'\u001b[39m\u001b[38;5;124mSomething happened!\u001b[39m\u001b[38;5;124m'\u001b[39m)\n",
      "Cell \u001b[1;32mIn[1], line 2\u001b[0m, in \u001b[0;36madd\u001b[1;34m(num1, num2)\u001b[0m\n\u001b[0;32m      1\u001b[0m \u001b[38;5;28;01mdef\u001b[39;00m \u001b[38;5;21madd\u001b[39m(num1, num2):\n\u001b[1;32m----> 2\u001b[0m     \u001b[38;5;28mprint\u001b[39m(num1\u001b[38;5;241m+\u001b[39mnum2)\n",
      "\u001b[1;31mTypeError\u001b[0m: unsupported operand type(s) for +: 'int' and 'str'"
     ]
    }
   ],
   "source": [
    "add(number1, number2)\n",
    "print('Something happened!')"
   ]
  },
  {
   "cell_type": "markdown",
   "id": "5c3471dc-ee60-4a62-9751-ff75d0456515",
   "metadata": {},
   "source": [
    "### Try Except Else Block"
   ]
  },
  {
   "cell_type": "code",
   "execution_count": 21,
   "id": "149f7044-4cbd-405f-b8f5-2c6b68c2c628",
   "metadata": {},
   "outputs": [
    {
     "name": "stdout",
     "output_type": "stream",
     "text": [
      "Try block Failed due to TypeError!\n",
      "I will run , at any cost!!!\n"
     ]
    }
   ],
   "source": [
    "try:\n",
    "    num = 10 + '10'\n",
    "\n",
    "except TypeError:\n",
    "    print('Try block Failed due to TypeError!')\n",
    "except OSError:\n",
    "    print('Try block Failed due to OSError!')\n",
    "else:\n",
    "    print('Try block ran successfully!')\n",
    "\n",
    "finally:\n",
    "    print('I will run , at any cost!!!')"
   ]
  },
  {
   "cell_type": "code",
   "execution_count": 17,
   "id": "4eac2344-0e8e-4959-8215-da4d0a3326e6",
   "metadata": {},
   "outputs": [
    {
     "data": {
      "text/plain": [
       "20"
      ]
     },
     "execution_count": 17,
     "metadata": {},
     "output_type": "execute_result"
    }
   ],
   "source": [
    "num"
   ]
  },
  {
   "cell_type": "code",
   "execution_count": 42,
   "id": "933aa567-4e31-466b-a74c-b242ee281510",
   "metadata": {},
   "outputs": [],
   "source": [
    "def ask_for_int():\n",
    "    i=0\n",
    "    while i<3:\n",
    "        try:\n",
    "            num = int(input('Enter an integer here: '))\n",
    "        except:\n",
    "            print('Thats not an integer, please provide an integer:')\n",
    "            i+=1\n",
    "            continue\n",
    "            \n",
    "        else:\n",
    "            print('Thankyou for entering integer value!, You are smart!')\n",
    "            break\n",
    "        finally:\n",
    "            print(f'I will always run. You have {3-i} attempts left')"
   ]
  },
  {
   "cell_type": "code",
   "execution_count": 45,
   "id": "9007202c-763d-48ef-9116-3a23eb2ff773",
   "metadata": {},
   "outputs": [
    {
     "name": "stdin",
     "output_type": "stream",
     "text": [
      "Enter an integer here:  1\n"
     ]
    },
    {
     "name": "stdout",
     "output_type": "stream",
     "text": [
      "Thankyou for entering integer value!, You are smart!\n",
      "I will always run. You have 3 attempts left\n"
     ]
    }
   ],
   "source": [
    "ask_for_int()"
   ]
  },
  {
   "cell_type": "markdown",
   "id": "3c0a921d-f857-4951-8ff5-8b1ce1d73e9f",
   "metadata": {},
   "source": [
    "### HomeWork Practice"
   ]
  },
  {
   "cell_type": "markdown",
   "id": "158b1eda-181d-4292-940e-d849483da554",
   "metadata": {},
   "source": [
    "##### Handle the exception thrown by code below using try and except block"
   ]
  },
  {
   "cell_type": "code",
   "execution_count": 4,
   "id": "e0a592c1-74e8-4ceb-83bd-7bf8054e6f44",
   "metadata": {},
   "outputs": [
    {
     "name": "stdout",
     "output_type": "stream",
     "text": [
      "FYI: You are iterating string\n",
      "FYI: You are iterating string\n",
      "FYI: You are iterating string\n"
     ]
    }
   ],
   "source": [
    "#problem 1\n",
    "for i in ['a','b','c']:\n",
    "    try:\n",
    "        print(i**2)\n",
    "    except TypeError:\n",
    "        print('FYI: You are iterating string')\n",
    "        "
   ]
  },
  {
   "cell_type": "code",
   "execution_count": 9,
   "id": "984eed8a-0811-4236-afa0-86b82533a067",
   "metadata": {},
   "outputs": [
    {
     "name": "stdout",
     "output_type": "stream",
     "text": [
      "Number cannot be divided by zero\n",
      "All Done\n"
     ]
    }
   ],
   "source": [
    "#problem 2\n",
    "x=5\n",
    "y=0\n",
    "try:\n",
    "    result= x/y\n",
    "    print('Try block result: ',result)\n",
    "except ZeroDivisionError:\n",
    "    print('Number cannot be divided by zero')\n",
    "finally:\n",
    "    print('All Done')"
   ]
  },
  {
   "cell_type": "code",
   "execution_count": 34,
   "id": "982f0e0d-491e-495f-aeb7-409a323ada11",
   "metadata": {},
   "outputs": [],
   "source": [
    "#problem 3\n",
    "# a function that ask for integer and print square of it. Use while loop with try catch to account for incorrect inputs\n",
    "\n",
    "def ask():\n",
    "    while True:        \n",
    "        try:\n",
    "            num = int(input('Please enter an integer: '))\n",
    "            print('The square of number is: ',num**2)\n",
    "        except ValueError:\n",
    "            print('Entered number is not integer')\n",
    "        else:\n",
    "            print('I am else block, you entered int correctly,I will now break the loop!')\n",
    "            break"
   ]
  },
  {
   "cell_type": "code",
   "execution_count": 35,
   "id": "67f0ac75-901d-4cc9-b962-2750dddeee29",
   "metadata": {},
   "outputs": [
    {
     "name": "stdin",
     "output_type": "stream",
     "text": [
      "Please enter an integer:  a\n"
     ]
    },
    {
     "name": "stdout",
     "output_type": "stream",
     "text": [
      "Entered number is not integer\n"
     ]
    },
    {
     "name": "stdin",
     "output_type": "stream",
     "text": [
      "Please enter an integer:  2\n"
     ]
    },
    {
     "name": "stdout",
     "output_type": "stream",
     "text": [
      "The square of number is:  4\n",
      "I am else block, you entered int correctly,I will now break the loop!\n"
     ]
    }
   ],
   "source": [
    "ask()"
   ]
  },
  {
   "cell_type": "code",
   "execution_count": null,
   "id": "a0382a8a-a82a-42f1-8050-93586e7337f8",
   "metadata": {},
   "outputs": [],
   "source": []
  },
  {
   "cell_type": "code",
   "execution_count": null,
   "id": "7d128664-ec1b-4d4f-8559-16063ddefad1",
   "metadata": {},
   "outputs": [],
   "source": []
  },
  {
   "cell_type": "code",
   "execution_count": null,
   "id": "e2a3ef37-21df-47e1-8049-8e9036ef3973",
   "metadata": {},
   "outputs": [],
   "source": []
  },
  {
   "cell_type": "code",
   "execution_count": null,
   "id": "5ff8e88f-2691-4879-a60d-841566418136",
   "metadata": {},
   "outputs": [],
   "source": []
  },
  {
   "cell_type": "code",
   "execution_count": null,
   "id": "4eeaf001-0861-48da-8d75-a0f8b5b3edc0",
   "metadata": {},
   "outputs": [],
   "source": []
  },
  {
   "cell_type": "code",
   "execution_count": null,
   "id": "56c6d79a-f546-4da0-81c4-ba21de304068",
   "metadata": {},
   "outputs": [],
   "source": []
  }
 ],
 "metadata": {
  "kernelspec": {
   "display_name": "Python 3 (ipykernel)",
   "language": "python",
   "name": "python3"
  },
  "language_info": {
   "codemirror_mode": {
    "name": "ipython",
    "version": 3
   },
   "file_extension": ".py",
   "mimetype": "text/x-python",
   "name": "python",
   "nbconvert_exporter": "python",
   "pygments_lexer": "ipython3",
   "version": "3.12.7"
  }
 },
 "nbformat": 4,
 "nbformat_minor": 5
}
