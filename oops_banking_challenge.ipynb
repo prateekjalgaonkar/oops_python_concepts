{
 "cells": [
  {
   "cell_type": "markdown",
   "id": "9cfcc260-8efe-401a-b68d-ec338c07e714",
   "metadata": {},
   "source": [
    "## Object Oriented Programming Challenge (Bank Program)"
   ]
  },
  {
   "cell_type": "markdown",
   "id": "47f78c53-9273-432b-b468-2cdf081fecd2",
   "metadata": {},
   "source": [
    "##### For this challenge, create a bank account class that has two attributes:\n",
    "\n",
    "1. owner\n",
    "2. balance\n",
    "\n",
    "and two methods:\n",
    "1. deposit\n",
    "2. withdraw\n",
    "   \n",
    "As an added requirement, withdrawals may not exceed the available balance.\n",
    "\n",
    "Instantiate your class, make several deposits and withdrawals, and test to make sure the account can't be overdrawn."
   ]
  },
  {
   "cell_type": "code",
   "execution_count": 1,
   "id": "0bc89d15-d52f-443c-9323-b5e83c843fba",
   "metadata": {},
   "outputs": [],
   "source": [
    "class Account:\n",
    "\n",
    "    def __init__(self, owner, balance):\n",
    "        self.owner = owner\n",
    "        self.balance = balance\n",
    "\n",
    "    def __str__(self):\n",
    "        return f'Account owner: {self.owner} \\nAccount balance: ${self.balance}'\n",
    "\n",
    "    def deposit(self,credit):\n",
    "        self.balance = self.balance + credit\n",
    "        print(f'Deposit Accepted of ${credit}')\n",
    "\n",
    "    def withdraw(self,debit):\n",
    "\n",
    "        if self.balance>debit:\n",
    "            self.balance = self.balance - debit\n",
    "            print(f'Withdrawal Accepted of ${debit}')\n",
    "        else:\n",
    "            print('Funds Unavailable!')\n"
   ]
  },
  {
   "cell_type": "code",
   "execution_count": 2,
   "id": "5e1ec11f-dbef-4b9a-8dc5-687ea6376161",
   "metadata": {},
   "outputs": [],
   "source": [
    "# 1. Instantiate the class\n",
    "acct1 = Account('Prateek',100)"
   ]
  },
  {
   "cell_type": "code",
   "execution_count": 3,
   "id": "526c91ed-6da3-449a-8e84-386b8321a096",
   "metadata": {},
   "outputs": [
    {
     "name": "stdout",
     "output_type": "stream",
     "text": [
      "Account owner: Prateek \n",
      "Account balance: $100\n"
     ]
    }
   ],
   "source": [
    "# 2. Print the object\n",
    "print(acct1)"
   ]
  },
  {
   "cell_type": "code",
   "execution_count": 4,
   "id": "12b5decc-765c-440d-911c-15264402a603",
   "metadata": {},
   "outputs": [
    {
     "name": "stdout",
     "output_type": "stream",
     "text": [
      "Deposit Accepted of $50\n"
     ]
    }
   ],
   "source": [
    "# 5. Make a series of deposits and withdrawals\n",
    "acct1.deposit(50)"
   ]
  },
  {
   "cell_type": "code",
   "execution_count": 5,
   "id": "275d90c1-8ff8-4feb-8517-7ee1b034927c",
   "metadata": {},
   "outputs": [
    {
     "name": "stdout",
     "output_type": "stream",
     "text": [
      "Account owner: Prateek \n",
      "Account balance: $150\n"
     ]
    }
   ],
   "source": [
    "print(acct1)"
   ]
  },
  {
   "cell_type": "code",
   "execution_count": 6,
   "id": "03bdb3d5-f3cb-4e57-a349-2289ac50e5b7",
   "metadata": {},
   "outputs": [
    {
     "name": "stdout",
     "output_type": "stream",
     "text": [
      "Withdrawal Accepted of $75\n"
     ]
    }
   ],
   "source": [
    "acct1.withdraw(75)"
   ]
  },
  {
   "cell_type": "code",
   "execution_count": 7,
   "id": "3b09676a-0a1a-450f-8544-92f54ff3496c",
   "metadata": {},
   "outputs": [
    {
     "name": "stdout",
     "output_type": "stream",
     "text": [
      "Account owner: Prateek \n",
      "Account balance: $75\n"
     ]
    }
   ],
   "source": [
    "print(acct1)"
   ]
  },
  {
   "cell_type": "code",
   "execution_count": 8,
   "id": "320449d5-53ea-4674-8440-6291c31bb851",
   "metadata": {},
   "outputs": [
    {
     "name": "stdout",
     "output_type": "stream",
     "text": [
      "Funds Unavailable!\n"
     ]
    }
   ],
   "source": [
    "# 6. Make a withdrawal that exceeds the available balance\n",
    "acct1.withdraw(500)"
   ]
  },
  {
   "cell_type": "code",
   "execution_count": 9,
   "id": "c3b45108-99a3-420c-ac89-be2ac8d1750b",
   "metadata": {},
   "outputs": [
    {
     "name": "stdout",
     "output_type": "stream",
     "text": [
      "Account owner: Prateek \n",
      "Account balance: $75\n"
     ]
    }
   ],
   "source": [
    "print(acct1)"
   ]
  }
 ],
 "metadata": {
  "kernelspec": {
   "display_name": "Python 3 (ipykernel)",
   "language": "python",
   "name": "python3"
  },
  "language_info": {
   "codemirror_mode": {
    "name": "ipython",
    "version": 3
   },
   "file_extension": ".py",
   "mimetype": "text/x-python",
   "name": "python",
   "nbconvert_exporter": "python",
   "pygments_lexer": "ipython3",
   "version": "3.12.7"
  }
 },
 "nbformat": 4,
 "nbformat_minor": 5
}
