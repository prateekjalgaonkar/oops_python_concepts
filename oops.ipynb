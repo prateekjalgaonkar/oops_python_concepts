{
 "cells": [
  {
   "cell_type": "code",
   "execution_count": 1,
   "id": "c3034a71-7a51-4591-8ebc-bfdeaa3354c8",
   "metadata": {},
   "outputs": [],
   "source": [
    "import pandas as pd"
   ]
  },
  {
   "cell_type": "code",
   "execution_count": 3,
   "id": "9747a2f8-8f77-4967-b73c-595526fd1081",
   "metadata": {},
   "outputs": [],
   "source": [
    "mylist = [1,2,3]"
   ]
  },
  {
   "cell_type": "code",
   "execution_count": 5,
   "id": "8f41ada7-ba5a-4d9e-a555-213eea9d34ed",
   "metadata": {},
   "outputs": [],
   "source": [
    "myset = set()"
   ]
  },
  {
   "cell_type": "code",
   "execution_count": 6,
   "id": "3f3440d0-7e86-4fbb-ac3b-147d1ec1e903",
   "metadata": {},
   "outputs": [
    {
     "data": {
      "text/plain": [
       "list"
      ]
     },
     "execution_count": 6,
     "metadata": {},
     "output_type": "execute_result"
    }
   ],
   "source": [
    "type(mylist)"
   ]
  },
  {
   "cell_type": "code",
   "execution_count": 7,
   "id": "5bd9818d-37bb-4277-b68a-58107c668a3a",
   "metadata": {},
   "outputs": [
    {
     "data": {
      "text/plain": [
       "set"
      ]
     },
     "execution_count": 7,
     "metadata": {},
     "output_type": "execute_result"
    }
   ],
   "source": [
    "type(myset)"
   ]
  },
  {
   "cell_type": "code",
   "execution_count": 14,
   "id": "9cad593b-5289-43f2-8742-d666c85f90cd",
   "metadata": {},
   "outputs": [],
   "source": [
    "#built in object V/S user defined objects\n",
    "\n",
    "class Dog():\n",
    "\n",
    "    #Class object attribute\n",
    "    species = 'mammal'\n",
    "\n",
    "    def __init__(self, breed,name,spots):\n",
    "        self.breed = breed\n",
    "        self.name = name\n",
    "        self.spots = spots\n",
    "\n",
    "    def bark()"
   ]
  },
  {
   "cell_type": "code",
   "execution_count": 17,
   "id": "2094047f-e487-41ab-ab62-c77408af81b5",
   "metadata": {},
   "outputs": [],
   "source": [
    "my_dog= Dog(breed = 'Lab', name= 'Gif', spots = 'False')\n",
    "your_dog= Dog(breed = 'Pom', name= 'Haf', spots = 'True')"
   ]
  },
  {
   "cell_type": "code",
   "execution_count": 26,
   "id": "b51ba902-8b2b-41c0-8c2d-f6c28f74a17b",
   "metadata": {},
   "outputs": [
    {
     "name": "stdout",
     "output_type": "stream",
     "text": [
      "My Dog breed Lab\n",
      "Your Dog breed Pom\n"
     ]
    }
   ],
   "source": [
    "print('My Dog breed',my_dog.breed)\n",
    "print('Your Dog breed',your_dog.breed)"
   ]
  },
  {
   "cell_type": "code",
   "execution_count": 60,
   "id": "3e3fd007-a101-4e39-819c-b9dcccb41f06",
   "metadata": {},
   "outputs": [],
   "source": [
    "class Dog():\n",
    "\n",
    "    def __init__(self, breed, name):\n",
    "        self.breed = breed\n",
    "        self.name = name\n",
    "\n",
    "    def bark(self, number):\n",
    "        print(f'Whoof!! my name is {self.name}')\n",
    "        print('Whoof!! my name is {} and my number is {}'.format(self.name,number))"
   ]
  },
  {
   "cell_type": "code",
   "execution_count": 61,
   "id": "9d3444a1-6825-42fa-9c8e-261561392230",
   "metadata": {},
   "outputs": [],
   "source": [
    "my_dog = Dog(breed= 'Lab', name = 'Max')"
   ]
  },
  {
   "cell_type": "code",
   "execution_count": 62,
   "id": "289ed5c9-88a5-4532-8a76-eb759b02e67b",
   "metadata": {},
   "outputs": [
    {
     "name": "stdout",
     "output_type": "stream",
     "text": [
      "Whoof!! my name is Max\n",
      "Whoof!! my name is Max and my number is 7\n"
     ]
    }
   ],
   "source": [
    "my_dog.bark(7)"
   ]
  },
  {
   "cell_type": "code",
   "execution_count": 77,
   "id": "78e27114-6a69-4fe2-ba45-12ce27a14512",
   "metadata": {},
   "outputs": [],
   "source": [
    "class Circle():\n",
    "    pi = 3.14\n",
    "\n",
    "    def __init__(self, radius=1):\n",
    "        self.radius = radius\n",
    "\n",
    "    def get_circumference(self):\n",
    "        return 2*Circle.pi*self.radius\n",
    "\n",
    "    def get_area(self):\n",
    "        return Circle.pi*self.radius*self.radius\n",
    "        "
   ]
  },
  {
   "cell_type": "code",
   "execution_count": 78,
   "id": "7638f180-907c-49a2-a507-899205e9f0fd",
   "metadata": {},
   "outputs": [],
   "source": [
    "my_circle = Circle(5)"
   ]
  },
  {
   "cell_type": "code",
   "execution_count": 81,
   "id": "95f8374f-e7ef-470a-92be-dadd73a6c855",
   "metadata": {},
   "outputs": [
    {
     "data": {
      "text/plain": [
       "78.5"
      ]
     },
     "execution_count": 81,
     "metadata": {},
     "output_type": "execute_result"
    }
   ],
   "source": [
    "my_circle.get_area()"
   ]
  },
  {
   "cell_type": "markdown",
   "id": "fef8869b-ebc5-4ed0-8e89-879ef5374336",
   "metadata": {},
   "source": [
    "## Inheritance\n",
    "Inheritance is a fundamental concept in object-oriented programming (OOP). It allows a new class (called a child or subclass) to acquire properties and behaviors (attributes and methods) from an existing class (called a parent or superclass)."
   ]
  },
  {
   "cell_type": "code",
   "execution_count": 118,
   "id": "45c2717a-3314-4c26-afc6-d284ce50b2c9",
   "metadata": {},
   "outputs": [],
   "source": [
    "class Animal():\n",
    "\n",
    "    def __init__(self, category, name):\n",
    "        self.category = category\n",
    "        self.name = name\n",
    "        print('Animal Created!')\n",
    "\n",
    "    def who_am_i(self):\n",
    "        print('I am Animal!')\n",
    "\n",
    "    def eat(self):\n",
    "        print('I am eating!')"
   ]
  },
  {
   "cell_type": "code",
   "execution_count": 119,
   "id": "95d66f75-e105-4272-b4fe-e37cb3f40bc0",
   "metadata": {},
   "outputs": [],
   "source": [
    "class Cat(Animal):\n",
    "    \n",
    "    def __init__(self):\n",
    "        Animal.__init__(self,'Indie','Kitty')\n",
    "        print('Cat Created!')\n",
    "\n",
    "    def eat(self):\n",
    "        print('I am cat and I am eating!')\n",
    "\n",
    "    def purr(self):\n",
    "        print('Meow!')"
   ]
  },
  {
   "cell_type": "code",
   "execution_count": 120,
   "id": "1e36c2bd-935a-43e5-a24a-b3bf67678819",
   "metadata": {},
   "outputs": [],
   "source": [
    "class Dog(Animal):\n",
    "\n",
    "    def __init__(self):\n",
    "        Animal.__init__(self,'Lab','Jim')\n",
    "        print('Dog Created')\n",
    "\n",
    "    def bark(self):\n",
    "        print('Whoof!')"
   ]
  },
  {
   "cell_type": "code",
   "execution_count": 121,
   "id": "a070cebe-07b7-48bb-8800-ce0a7813fbce",
   "metadata": {},
   "outputs": [
    {
     "name": "stdout",
     "output_type": "stream",
     "text": [
      "Animal Created!\n",
      "Cat Created!\n"
     ]
    }
   ],
   "source": [
    "my_cat = Cat()"
   ]
  },
  {
   "cell_type": "code",
   "execution_count": 122,
   "id": "e7261cc8-f8de-4b9c-ac03-178b7601a23f",
   "metadata": {},
   "outputs": [
    {
     "name": "stdout",
     "output_type": "stream",
     "text": [
      "Animal Created!\n",
      "Dog Created\n"
     ]
    }
   ],
   "source": [
    "my_dog= Dog()"
   ]
  },
  {
   "cell_type": "code",
   "execution_count": 123,
   "id": "574e843b-50d0-455d-b26c-83e0787d8eaf",
   "metadata": {},
   "outputs": [
    {
     "name": "stdout",
     "output_type": "stream",
     "text": [
      "Meow!\n"
     ]
    }
   ],
   "source": [
    "my_cat.purr()"
   ]
  },
  {
   "cell_type": "code",
   "execution_count": 124,
   "id": "a7acb485-7d7a-449c-b62a-255accca2480",
   "metadata": {},
   "outputs": [
    {
     "name": "stdout",
     "output_type": "stream",
     "text": [
      "Whoof!\n"
     ]
    }
   ],
   "source": [
    "my_dog.bark()"
   ]
  },
  {
   "cell_type": "code",
   "execution_count": 129,
   "id": "5b5b2c31-4204-4a89-9f06-1a168ac05b74",
   "metadata": {},
   "outputs": [
    {
     "name": "stdout",
     "output_type": "stream",
     "text": [
      "I am cat and I am eating!\n"
     ]
    }
   ],
   "source": [
    "#overwrite the method of eat in the class\n",
    "my_cat.eat()"
   ]
  },
  {
   "cell_type": "code",
   "execution_count": 126,
   "id": "63403c73-5fbc-48a7-b59b-ce41455479dc",
   "metadata": {},
   "outputs": [
    {
     "name": "stdout",
     "output_type": "stream",
     "text": [
      "I am eating!\n"
     ]
    }
   ],
   "source": [
    "my_dog.eat()"
   ]
  },
  {
   "cell_type": "code",
   "execution_count": 127,
   "id": "a6e0f223-0714-493e-8826-df62cd8bb8ed",
   "metadata": {},
   "outputs": [
    {
     "data": {
      "text/plain": [
       "'Kitty'"
      ]
     },
     "execution_count": 127,
     "metadata": {},
     "output_type": "execute_result"
    }
   ],
   "source": [
    "my_cat.name"
   ]
  },
  {
   "cell_type": "code",
   "execution_count": 128,
   "id": "ece54c75-ea54-4dfa-b365-7cad7fec2cc5",
   "metadata": {},
   "outputs": [
    {
     "data": {
      "text/plain": [
       "'Jim'"
      ]
     },
     "execution_count": 128,
     "metadata": {},
     "output_type": "execute_result"
    }
   ],
   "source": [
    "my_dog.name"
   ]
  },
  {
   "cell_type": "markdown",
   "id": "8d46a9da-b043-41c1-b930-44f661322a1d",
   "metadata": {},
   "source": [
    "## Polymorphism"
   ]
  },
  {
   "cell_type": "code",
   "execution_count": 136,
   "id": "854d6b1c-40f9-4f98-9db6-c28285bc8588",
   "metadata": {},
   "outputs": [],
   "source": [
    "class Dog():\n",
    "\n",
    "    def __init__(self,name):\n",
    "        self.name = name\n",
    "\n",
    "    def speak(self):\n",
    "        return self.name + ' speaks whoof!'"
   ]
  },
  {
   "cell_type": "code",
   "execution_count": 137,
   "id": "7911a8c0-c8f3-440c-abee-bb29476fc1be",
   "metadata": {},
   "outputs": [],
   "source": [
    "jim = Dog('Jim')"
   ]
  },
  {
   "cell_type": "code",
   "execution_count": 138,
   "id": "ae7a8c1f-65f4-4524-a8c9-3084be482341",
   "metadata": {},
   "outputs": [
    {
     "name": "stdout",
     "output_type": "stream",
     "text": [
      "Jim speaks whoof!\n"
     ]
    }
   ],
   "source": [
    "print(jim.speak())"
   ]
  },
  {
   "cell_type": "code",
   "execution_count": 139,
   "id": "92ad1a25-3cdd-4606-95b6-ec651030e9f7",
   "metadata": {},
   "outputs": [],
   "source": [
    "class Cat():\n",
    "\n",
    "    def __init__(self, name):\n",
    "        self.name = name\n",
    "\n",
    "    def speak(self):\n",
    "        return self.name + ' speaks meow!'"
   ]
  },
  {
   "cell_type": "code",
   "execution_count": 140,
   "id": "3e5b4bbe-b3aa-419f-901d-976ad0c12f82",
   "metadata": {},
   "outputs": [],
   "source": [
    "kitty = Cat('Kitty')"
   ]
  },
  {
   "cell_type": "code",
   "execution_count": 142,
   "id": "3a828afd-809c-4a51-916c-5b6947f6b116",
   "metadata": {},
   "outputs": [
    {
     "name": "stdout",
     "output_type": "stream",
     "text": [
      "Kitty speaks meow!\n"
     ]
    }
   ],
   "source": [
    "print(kitty.speak())"
   ]
  },
  {
   "cell_type": "code",
   "execution_count": 143,
   "id": "864a605c-f427-4c13-b192-9046fa9de4e5",
   "metadata": {},
   "outputs": [
    {
     "name": "stdout",
     "output_type": "stream",
     "text": [
      "Jim speaks whoof!\n",
      "Kitty speaks meow!\n"
     ]
    }
   ],
   "source": [
    "for pet in [jim,kitty]:\n",
    "    print(pet.speak())"
   ]
  },
  {
   "cell_type": "code",
   "execution_count": 144,
   "id": "ec84f63b-dc6a-478d-8df5-1620d054b9c6",
   "metadata": {},
   "outputs": [],
   "source": [
    "def pet_speaks(pet):\n",
    "    print(pet.speak())"
   ]
  },
  {
   "cell_type": "code",
   "execution_count": 146,
   "id": "590be3b1-01e4-4b9d-ad9a-c7d08c847114",
   "metadata": {},
   "outputs": [
    {
     "name": "stdout",
     "output_type": "stream",
     "text": [
      "Kitty speaks meow!\n"
     ]
    }
   ],
   "source": [
    "pet_speaks(kitty)"
   ]
  },
  {
   "cell_type": "code",
   "execution_count": 170,
   "id": "8fbf3929-98fe-4446-82a8-c42bd626b570",
   "metadata": {},
   "outputs": [],
   "source": [
    "class Animal():\n",
    "\n",
    "    def __init__(self, name):\n",
    "        self.name=  name\n",
    "\n",
    "    def speak(self):\n",
    "        raise NotImplementedError('Subclass must implement this abstract method')"
   ]
  },
  {
   "cell_type": "code",
   "execution_count": 171,
   "id": "69462412-bef0-4d1e-a426-20e0f84ee73e",
   "metadata": {},
   "outputs": [],
   "source": [
    "my_animal = Animal('lab')"
   ]
  },
  {
   "cell_type": "code",
   "execution_count": 172,
   "id": "ec19c1a1-09a2-4c96-97de-48a28a5a3dc9",
   "metadata": {},
   "outputs": [],
   "source": [
    "class Dog(Animal):\n",
    "\n",
    "    def speak(self):\n",
    "        return self.name + ' speaks Whoof!'"
   ]
  },
  {
   "cell_type": "code",
   "execution_count": 173,
   "id": "4315c164-55dd-4611-90e7-56202725e906",
   "metadata": {},
   "outputs": [],
   "source": [
    "class Cat(Animal):\n",
    "    \n",
    "    def speak(self):\n",
    "        return self.name + ' speaks meow!'"
   ]
  },
  {
   "cell_type": "code",
   "execution_count": 174,
   "id": "022cd955-7731-4cfd-a065-a6cb0d960fdb",
   "metadata": {},
   "outputs": [],
   "source": [
    "jim = Dog('Jim')"
   ]
  },
  {
   "cell_type": "code",
   "execution_count": 175,
   "id": "de99e0c7-7620-4762-89b6-4fd9f118e439",
   "metadata": {},
   "outputs": [],
   "source": [
    "kitty = Cat('Kitty')"
   ]
  },
  {
   "cell_type": "code",
   "execution_count": 179,
   "id": "26bfcce4-5733-4927-baea-63f3db2677fc",
   "metadata": {},
   "outputs": [
    {
     "ename": "NotImplementedError",
     "evalue": "Subclass must implement this abstract method",
     "output_type": "error",
     "traceback": [
      "\u001b[1;31m---------------------------------------------------------------------------\u001b[0m",
      "\u001b[1;31mNotImplementedError\u001b[0m                       Traceback (most recent call last)",
      "Cell \u001b[1;32mIn[179], line 1\u001b[0m\n\u001b[1;32m----> 1\u001b[0m my_animal\u001b[38;5;241m.\u001b[39mspeak()\n",
      "Cell \u001b[1;32mIn[170], line 7\u001b[0m, in \u001b[0;36mAnimal.speak\u001b[1;34m(self)\u001b[0m\n\u001b[0;32m      6\u001b[0m \u001b[38;5;28;01mdef\u001b[39;00m \u001b[38;5;21mspeak\u001b[39m(\u001b[38;5;28mself\u001b[39m):\n\u001b[1;32m----> 7\u001b[0m     \u001b[38;5;28;01mraise\u001b[39;00m \u001b[38;5;167;01mNotImplementedError\u001b[39;00m(\u001b[38;5;124m'\u001b[39m\u001b[38;5;124mSubclass must implement this abstract method\u001b[39m\u001b[38;5;124m'\u001b[39m)\n",
      "\u001b[1;31mNotImplementedError\u001b[0m: Subclass must implement this abstract method"
     ]
    }
   ],
   "source": [
    "my_animal.speak()"
   ]
  },
  {
   "cell_type": "code",
   "execution_count": 180,
   "id": "cfa86d6a-3741-45a7-957f-281c00eeed73",
   "metadata": {},
   "outputs": [
    {
     "name": "stdout",
     "output_type": "stream",
     "text": [
      "Jim speaks Whoof!\n",
      "Kitty speaks meow!\n"
     ]
    }
   ],
   "source": [
    "print(jim.speak())\n",
    "print(kitty.speak())"
   ]
  }
 ],
 "metadata": {
  "kernelspec": {
   "display_name": "Python 3 (ipykernel)",
   "language": "python",
   "name": "python3"
  },
  "language_info": {
   "codemirror_mode": {
    "name": "ipython",
    "version": 3
   },
   "file_extension": ".py",
   "mimetype": "text/x-python",
   "name": "python",
   "nbconvert_exporter": "python",
   "pygments_lexer": "ipython3",
   "version": "3.12.7"
  }
 },
 "nbformat": 4,
 "nbformat_minor": 5
}
