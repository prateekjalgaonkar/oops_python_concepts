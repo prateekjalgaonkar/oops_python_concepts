{
 "cells": [
  {
   "cell_type": "code",
   "execution_count": 1,
   "id": "6bf3f55e-e4eb-4a80-ba8f-b543a30b4d1c",
   "metadata": {},
   "outputs": [],
   "source": [
    "import unittest"
   ]
  },
  {
   "cell_type": "code",
   "execution_count": 2,
   "id": "5eee9c8f-7a89-4169-b968-8b15dbe06462",
   "metadata": {},
   "outputs": [],
   "source": [
    "def cap_text(text):\n",
    "    return text.capitalize()"
   ]
  },
  {
   "cell_type": "markdown",
   "id": "3e8217a0-7f27-465e-9ff6-3db853d8e104",
   "metadata": {},
   "source": [
    "#### TestCase-1 with one word"
   ]
  },
  {
   "cell_type": "code",
   "execution_count": 3,
   "id": "7a808fa0-1a95-493f-a95a-61f06bdd96a6",
   "metadata": {},
   "outputs": [],
   "source": [
    "class test_capital(unittest.TestCase):\n",
    "    def test_small_letters(self):\n",
    "        self.assertEqual(cap_text('hello'),'Hello')"
   ]
  },
  {
   "cell_type": "code",
   "execution_count": 4,
   "id": "89de476d-6575-4e8a-9e42-2565b1982227",
   "metadata": {},
   "outputs": [
    {
     "name": "stderr",
     "output_type": "stream",
     "text": [
      "test_small_letters (__main__.test_capital.test_small_letters) ... ok\n",
      "\n",
      "----------------------------------------------------------------------\n",
      "Ran 1 test in 0.006s\n",
      "\n",
      "OK\n"
     ]
    },
    {
     "data": {
      "text/plain": [
       "<unittest.main.TestProgram at 0x1e342beb980>"
      ]
     },
     "execution_count": 4,
     "metadata": {},
     "output_type": "execute_result"
    }
   ],
   "source": [
    "unittest.main(argv=[''],verbosity=2,exit= False)"
   ]
  },
  {
   "cell_type": "markdown",
   "id": "5772cbd6-bf9a-4e54-8f2d-3a42b1711186",
   "metadata": {},
   "source": [
    "#### TestCase-2 with multiple words"
   ]
  },
  {
   "cell_type": "code",
   "execution_count": 5,
   "id": "1c3a758f-2b6c-4190-815c-126d564e3441",
   "metadata": {},
   "outputs": [],
   "source": [
    "class test_capital(unittest.TestCase):\n",
    "    def test_small_letters(self):\n",
    "        self.assertEqual(cap_text('hello'),'Hello')\n",
    "    def test_multiple_words(self):\n",
    "        self.assertEqual(cap_text('hello world'),'Hello World')"
   ]
  },
  {
   "cell_type": "code",
   "execution_count": 6,
   "id": "f1ab74c0-b603-4c67-ba75-e02af80d54f2",
   "metadata": {},
   "outputs": [
    {
     "name": "stderr",
     "output_type": "stream",
     "text": [
      "test_multiple_words (__main__.test_capital.test_multiple_words) ... FAIL\n",
      "test_small_letters (__main__.test_capital.test_small_letters) ... ok\n",
      "\n",
      "======================================================================\n",
      "FAIL: test_multiple_words (__main__.test_capital.test_multiple_words)\n",
      "----------------------------------------------------------------------\n",
      "Traceback (most recent call last):\n",
      "  File \"C:\\Users\\INFX010158\\AppData\\Local\\Temp\\ipykernel_11640\\763436396.py\", line 5, in test_multiple_words\n",
      "    self.assertEqual(cap_text('hello world'),'Hello World')\n",
      "AssertionError: 'Hello world' != 'Hello World'\n",
      "- Hello world\n",
      "?       ^\n",
      "+ Hello World\n",
      "?       ^\n",
      "\n",
      "\n",
      "----------------------------------------------------------------------\n",
      "Ran 2 tests in 0.005s\n",
      "\n",
      "FAILED (failures=1)\n"
     ]
    },
    {
     "data": {
      "text/plain": [
       "<unittest.main.TestProgram at 0x1e342c57a70>"
      ]
     },
     "execution_count": 6,
     "metadata": {},
     "output_type": "execute_result"
    }
   ],
   "source": [
    "unittest.main(argv=[''],verbosity=2,exit= False)"
   ]
  },
  {
   "cell_type": "markdown",
   "id": "1f018395-e213-4ca1-80a0-c4283abed878",
   "metadata": {},
   "source": [
    "#### Since the 'test_multiple_words' failed, we will rework on our main function, to make both test case pass."
   ]
  },
  {
   "cell_type": "code",
   "execution_count": 7,
   "id": "ad530a71-7265-4766-88e2-29aa452ac1e1",
   "metadata": {},
   "outputs": [],
   "source": [
    "def cap_text(text):\n",
    "    return text.title()"
   ]
  },
  {
   "cell_type": "code",
   "execution_count": 8,
   "id": "f14f6f10-4e85-42fd-9e9d-fc0fa1356ddd",
   "metadata": {},
   "outputs": [],
   "source": [
    "class test_capital(unittest.TestCase):\n",
    "    def test_small_letters(self):\n",
    "        self.assertEqual(cap_text('hello'),'Hello')\n",
    "    def test_multiple_words(self):\n",
    "        self.assertEqual(cap_text('hello world'),'Hello World')"
   ]
  },
  {
   "cell_type": "code",
   "execution_count": 9,
   "id": "eec63eff-5246-4bdb-ad01-61d75e508c50",
   "metadata": {},
   "outputs": [
    {
     "name": "stderr",
     "output_type": "stream",
     "text": [
      "test_multiple_words (__main__.test_capital.test_multiple_words) ... ok\n",
      "test_small_letters (__main__.test_capital.test_small_letters) ... ok\n",
      "\n",
      "----------------------------------------------------------------------\n",
      "Ran 2 tests in 0.006s\n",
      "\n",
      "OK\n"
     ]
    },
    {
     "data": {
      "text/plain": [
       "<unittest.main.TestProgram at 0x1e342c56d20>"
      ]
     },
     "execution_count": 9,
     "metadata": {},
     "output_type": "execute_result"
    }
   ],
   "source": [
    "unittest.main(argv=[''],verbosity=2,exit= False)"
   ]
  },
  {
   "cell_type": "markdown",
   "id": "2e66969a-dc6f-4807-9940-ba05f52e1762",
   "metadata": {},
   "source": [
    "#### All test cases pass. Good Job!"
   ]
  }
 ],
 "metadata": {
  "kernelspec": {
   "display_name": "Python 3 (ipykernel)",
   "language": "python",
   "name": "python3"
  },
  "language_info": {
   "codemirror_mode": {
    "name": "ipython",
    "version": 3
   },
   "file_extension": ".py",
   "mimetype": "text/x-python",
   "name": "python",
   "nbconvert_exporter": "python",
   "pygments_lexer": "ipython3",
   "version": "3.12.7"
  }
 },
 "nbformat": 4,
 "nbformat_minor": 5
}
