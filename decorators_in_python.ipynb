{
 "cells": [
  {
   "cell_type": "markdown",
   "id": "a409c72a-a2d3-468c-8eca-498f4a7f8842",
   "metadata": {},
   "source": [
    "## Decorators and their usecase:\n",
    "Its a on/off switch to add or remove new functionality in the existing function of the code"
   ]
  },
  {
   "cell_type": "markdown",
   "id": "25d88edf-7d36-4f42-8b46-3673f64e20dc",
   "metadata": {},
   "source": [
    "### Building our own Decorators"
   ]
  },
  {
   "cell_type": "code",
   "execution_count": 1,
   "id": "68922240-5f40-4435-830f-0c37d5bda10c",
   "metadata": {},
   "outputs": [],
   "source": [
    "def helloz():\n",
    "    return 'Hello'"
   ]
  },
  {
   "cell_type": "code",
   "execution_count": 2,
   "id": "22e05ee5-5c18-404f-b51c-c554b6e443c5",
   "metadata": {},
   "outputs": [],
   "source": [
    "greetings = helloz"
   ]
  },
  {
   "cell_type": "code",
   "execution_count": 3,
   "id": "647382dc-ba7a-428d-9f79-bf305f7d97cd",
   "metadata": {},
   "outputs": [
    {
     "data": {
      "text/plain": [
       "'Hello'"
      ]
     },
     "execution_count": 3,
     "metadata": {},
     "output_type": "execute_result"
    }
   ],
   "source": [
    "greetings()"
   ]
  },
  {
   "cell_type": "code",
   "execution_count": 4,
   "id": "1114a1c2-eb3a-45b6-abd3-a499bcd9bbe1",
   "metadata": {},
   "outputs": [],
   "source": [
    "del helloz"
   ]
  },
  {
   "cell_type": "code",
   "execution_count": 5,
   "id": "9e9769f2-250e-48b0-822f-5e3206110d85",
   "metadata": {},
   "outputs": [
    {
     "data": {
      "text/plain": [
       "'Hello'"
      ]
     },
     "execution_count": 5,
     "metadata": {},
     "output_type": "execute_result"
    }
   ],
   "source": [
    "greetings()"
   ]
  },
  {
   "cell_type": "code",
   "execution_count": 19,
   "id": "cb19d2f7-cc79-43dc-836d-9beacabcb116",
   "metadata": {},
   "outputs": [],
   "source": [
    "def hello(name = 'Prateek'):\n",
    "    print('The hello() function has been executed!')\n",
    "\n",
    "    def greet():\n",
    "        return '\\t This is greet() inside hello()'\n",
    "\n",
    "    def welcome():\n",
    "        return '\\t This is welcome() inside hello()'\n",
    "\n",
    "    if name == 'Prateek':\n",
    "        return greet()\n",
    "    else:\n",
    "        return welcome()\n",
    "    print('The hello() function end here')"
   ]
  },
  {
   "cell_type": "code",
   "execution_count": 21,
   "id": "8a1edbc0-76d2-4848-ae73-86af60bd4997",
   "metadata": {},
   "outputs": [
    {
     "name": "stdout",
     "output_type": "stream",
     "text": [
      "The hello() function has been executed!\n"
     ]
    }
   ],
   "source": [
    "my_func= hello()"
   ]
  },
  {
   "cell_type": "code",
   "execution_count": 25,
   "id": "c7cdd590-ffc8-47bc-9c4c-4563d1afd840",
   "metadata": {},
   "outputs": [
    {
     "name": "stdout",
     "output_type": "stream",
     "text": [
      "\t This is greet() inside hello()\n"
     ]
    }
   ],
   "source": [
    "my_func= hello()\n",
    "print(my_func())"
   ]
  },
  {
   "cell_type": "markdown",
   "id": "cd844357-0bdf-4e26-ae6a-f7cf6b4db5a2",
   "metadata": {},
   "source": [
    "### Returning a function inside a function"
   ]
  },
  {
   "cell_type": "code",
   "execution_count": 26,
   "id": "c3296b92-ea8b-465b-8147-125df1426fb6",
   "metadata": {},
   "outputs": [],
   "source": [
    "def cool():\n",
    "    def super_cool():\n",
    "        return 'I am super cool'\n",
    "\n",
    "    return super_cool"
   ]
  },
  {
   "cell_type": "code",
   "execution_count": 27,
   "id": "fe99e0f1-a3dd-4f7f-ac5d-020abb94d3be",
   "metadata": {},
   "outputs": [],
   "source": [
    "my_func = cool()"
   ]
  },
  {
   "cell_type": "code",
   "execution_count": 39,
   "id": "7b0c3e89-7986-46a1-b215-f0df09a692f1",
   "metadata": {},
   "outputs": [
    {
     "data": {
      "text/plain": [
       "'I am super cool'"
      ]
     },
     "execution_count": 39,
     "metadata": {},
     "output_type": "execute_result"
    }
   ],
   "source": [
    "my_func()"
   ]
  },
  {
   "cell_type": "markdown",
   "id": "8c177268-2640-4aee-b8b5-fd722d0818e4",
   "metadata": {},
   "source": [
    "### Passing function as argument"
   ]
  },
  {
   "cell_type": "code",
   "execution_count": 48,
   "id": "fcc88c12-4f89-47dd-a1e5-d7e1389e5a4e",
   "metadata": {},
   "outputs": [],
   "source": [
    "def hello():\n",
    "    return 'Hi Prateek'"
   ]
  },
  {
   "cell_type": "code",
   "execution_count": 53,
   "id": "c2051d31-74bf-4aab-96af-e374f192b4d5",
   "metadata": {},
   "outputs": [],
   "source": [
    "def other(argument):\n",
    "    print('This is the other function')\n",
    "    print(argument())"
   ]
  },
  {
   "cell_type": "code",
   "execution_count": 54,
   "id": "0f9e4411-f9b1-4054-972b-aa2dc0b40fbe",
   "metadata": {},
   "outputs": [
    {
     "name": "stdout",
     "output_type": "stream",
     "text": [
      "This is the other function\n",
      "Hi Prateek\n"
     ]
    }
   ],
   "source": [
    "other(hello)"
   ]
  },
  {
   "cell_type": "markdown",
   "id": "d2c14f5d-812a-4b6c-aec0-509857d1994a",
   "metadata": {},
   "source": [
    "### Creating Decorator"
   ]
  },
  {
   "cell_type": "code",
   "execution_count": 87,
   "id": "9ed470b5-119c-4623-989e-1b4517bfe02a",
   "metadata": {},
   "outputs": [],
   "source": [
    "def decorator_func(main_func):\n",
    "    def wrap_func():\n",
    "        print('Adding some code, decorating before')\n",
    "        main_func()\n",
    "        print('Adding some code, decorating after')\n",
    "    return wrap_func"
   ]
  },
  {
   "cell_type": "code",
   "execution_count": 88,
   "id": "4acce995-1478-455a-877c-7379e5df9b49",
   "metadata": {},
   "outputs": [],
   "source": [
    "def main_func():\n",
    "    print('I am main function and I want to be decorated!')"
   ]
  },
  {
   "cell_type": "code",
   "execution_count": 89,
   "id": "1603f06f-757e-4cbf-a659-761afe1a1521",
   "metadata": {},
   "outputs": [],
   "source": [
    "my_decorator = decorator_func(main_func)"
   ]
  },
  {
   "cell_type": "code",
   "execution_count": 90,
   "id": "ae1681b5-e020-4040-abf6-158512c68f3b",
   "metadata": {},
   "outputs": [
    {
     "name": "stdout",
     "output_type": "stream",
     "text": [
      "Adding some code, decorating before\n",
      "I am main function and I want to be decorated!\n",
      "Adding some code, decorating after\n"
     ]
    }
   ],
   "source": [
    "my_decorator()"
   ]
  },
  {
   "cell_type": "markdown",
   "id": "34b91df3-557a-4031-91cc-a44830c7c1a5",
   "metadata": {},
   "source": [
    "#### Or you can use @ with your decorator function to skip on above part"
   ]
  },
  {
   "cell_type": "code",
   "execution_count": 93,
   "id": "4bd2d77f-a7a6-438b-adde-f566dad3dff5",
   "metadata": {},
   "outputs": [],
   "source": [
    "@decorator_func\n",
    "def main_func():\n",
    "    print('I am main function and I want to be decorated!')"
   ]
  },
  {
   "cell_type": "code",
   "execution_count": 94,
   "id": "a6741b5b-f440-44d5-a87d-7e0347277676",
   "metadata": {},
   "outputs": [
    {
     "name": "stdout",
     "output_type": "stream",
     "text": [
      "Adding some code, decorating before\n",
      "I am main function and I want to be decorated!\n",
      "Adding some code, decorating after\n"
     ]
    }
   ],
   "source": [
    "main_func()"
   ]
  },
  {
   "cell_type": "code",
   "execution_count": null,
   "id": "b14bfcd8-1f96-4fce-984e-070b523c96af",
   "metadata": {},
   "outputs": [],
   "source": []
  }
 ],
 "metadata": {
  "kernelspec": {
   "display_name": "Python 3 (ipykernel)",
   "language": "python",
   "name": "python3"
  },
  "language_info": {
   "codemirror_mode": {
    "name": "ipython",
    "version": 3
   },
   "file_extension": ".py",
   "mimetype": "text/x-python",
   "name": "python",
   "nbconvert_exporter": "python",
   "pygments_lexer": "ipython3",
   "version": "3.12.7"
  }
 },
 "nbformat": 4,
 "nbformat_minor": 5
}
